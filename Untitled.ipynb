{
 "cells": [
  {
   "cell_type": "code",
   "execution_count": 1,
   "id": "6a653b5b",
   "metadata": {},
   "outputs": [
    {
     "name": "stdout",
     "output_type": "stream",
     "text": [
      "This is my first class\n"
     ]
    }
   ],
   "source": [
    "print(\"This is my first class\")"
   ]
  },
  {
   "cell_type": "code",
   "execution_count": null,
   "id": "bc084c78",
   "metadata": {},
   "outputs": [],
   "source": []
  },
  {
   "cell_type": "markdown",
   "id": "c7e9c414",
   "metadata": {},
   "source": [
    "fhgjfj"
   ]
  },
  {
   "cell_type": "code",
   "execution_count": null,
   "id": "0ed0760b",
   "metadata": {},
   "outputs": [],
   "source": []
  }
 ],
 "metadata": {
  "kernelspec": {
   "display_name": "Python 3",
   "language": "python",
   "name": "python3"
  },
  "language_info": {
   "codemirror_mode": {
    "name": "ipython",
    "version": 3
   },
   "file_extension": ".py",
   "mimetype": "text/x-python",
   "name": "python",
   "nbconvert_exporter": "python",
   "pygments_lexer": "ipython3",
   "version": "3.8.8"
  }
 },
 "nbformat": 4,
 "nbformat_minor": 5
}
